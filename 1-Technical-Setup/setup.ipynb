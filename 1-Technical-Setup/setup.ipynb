{
 "cells": [
  {
   "metadata": {},
   "cell_type": "markdown",
   "source": [
    "# Virtual Environment Setup\n",
    "\n",
    "Ideally, we would like to create a virtual environment for this project. This will allow us to install the necessary packages without affecting the global python environment.\n",
    "\n",
    "If your IDE (e.g. VSCode) can create a virtual environment for you, please do so. If not, you can follow the instructions below to create a virtual environment using the command line.\n",
    "\n",
    "1. Open a terminal\n",
    "2. Navigate to the project directory\n",
    "3. Run the following command to create a virtual environment:\n",
    "4. `python -m venv venv`\n",
    "5. Activate the virtual environment:\n",
    "   - Windows: `venv\\Scripts\\activate`\n",
    "   - MacOS/Linux: `source venv/bin/activate`\n",
    "\n",
    "If jupyter is not installed in the virtual environment, please run the following command:\n",
    "`pip install jupyter`\n",
    "\n",
    "Once you have activated the virtual environment, you can start the jupyter notebook by running the following command:\n",
    "`jupyter notebook`\n",
    "\n",
    "Make sure you select the kernel that corresponds to the virtual environment you created."
   ],
   "id": "126c4829a72a8ee7"
  },
  {
   "cell_type": "markdown",
   "id": "cb49fd6c54789d18",
   "metadata": {},
   "source": [
    "# Install relevant packages\n",
    "\n",
    "We will be using several packages in this project. In order to install them, please run the following jupyter cell. It should take care of the installation for you."
   ]
  },
  {
   "cell_type": "code",
   "id": "initial_id",
   "metadata": {
    "collapsed": true
   },
   "source": [
    "# Install a pip package in the current Jupyter kernel\n",
    "import sys\n",
    "!{sys.executable} -m pip install -r requirements.txt"
   ],
   "outputs": [],
   "execution_count": null
  },
  {
   "cell_type": "code",
   "id": "56fb18281eb27c71",
   "metadata": {},
   "source": [
    "# If above does not work, you can try running the following command. Make sure this target the correct python environment.\n",
    "!pip install -r requirements.txt"
   ],
   "outputs": [],
   "execution_count": null
  }
 ],
 "metadata": {
  "kernelspec": {
   "display_name": "Python 3",
   "language": "python",
   "name": "python3"
  },
  "language_info": {
   "codemirror_mode": {
    "name": "ipython",
    "version": 3
   },
   "file_extension": ".py",
   "mimetype": "text/x-python",
   "name": "python",
   "nbconvert_exporter": "python",
   "pygments_lexer": "ipython3",
   "version": "3.9.6"
  }
 },
 "nbformat": 4,
 "nbformat_minor": 5
}
