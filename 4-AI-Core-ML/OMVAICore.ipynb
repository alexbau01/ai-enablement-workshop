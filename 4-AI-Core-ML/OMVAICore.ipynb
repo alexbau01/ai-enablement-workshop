{
 "cells": [
  {
   "cell_type": "code",
   "execution_count": 26,
   "id": "a3a0d0ef-b36f-4c18-9360-9608a011b211",
   "metadata": {},
   "outputs": [],
   "source": [
    "# basic\n",
    "import requests\n",
    "import pandas as pd\n",
    "import os\n",
    "import json\n",
    "\n",
    "# visuals\n",
    "import seaborn as sns\n",
    "import matplotlib.pyplot as plt\n",
    "from matplotlib.image import imread\n",
    "\n",
    "\n",
    "# ai core sdk\n",
    "from ai_core_sdk.ai_core_v2_client import AICoreV2Client\n",
    "from ai_api_client_sdk.models.artifact import Artifact\n",
    "from ai_api_client_sdk.models.label import Label\n",
    "from ai_api_client_sdk.models.parameter_binding import ParameterBinding\n",
    "from ai_api_client_sdk.models.input_artifact_binding import InputArtifactBinding\n",
    "\n",
    "# image processing\n",
    "from PIL import Image\n",
    "import base64\n",
    "import numpy as np\n",
    "import cv2"
   ]
  },
  {
   "cell_type": "code",
   "execution_count": 27,
   "id": "a0ad1dc3-f3d0-437d-b372-860422712675",
   "metadata": {},
   "outputs": [
    {
     "name": "stdout",
     "output_type": "stream",
     "text": [
      "Found AI Core credentials.\n"
     ]
    }
   ],
   "source": [
    "# Get AI Core credentials from json file saved in <directory_path>/secrets folder\n",
    "\n",
    "try:\n",
    "    # load keyfile from ../secrets/hana.json\n",
    "    with open(\"<directory_path>/secrets/aicore.json\") as f:\n",
    "        aicorecreds = json.load(f)\n",
    "        print(\"Found AI Core credentials.\")\n",
    "except FileNotFoundError as e:\n",
    "    print(f\"Failed to load keyfile. Please make sure you have stored the file in a folder called 'secrets'. Error: {e}\")"
   ]
  },
  {
   "cell_type": "code",
   "execution_count": 29,
   "id": "30e924b7-5fe0-4392-b785-faa9fd51c379",
   "metadata": {},
   "outputs": [],
   "source": [
    "# Alternative way to create Connection to AI Core\n",
    "ai_core_client = AICoreV2Client(\n",
    "    base_url = \"https://api.ai.prod.eu-central-1.aws.ml.hana.ondemand.com\" + \"/v2\", # The present SAP AI Core API version is 2\n",
    "    auth_url=  aicorecreds[\"url\"]  + \"/oauth/token\", # Suffix to add\n",
    "    client_id = aicorecreds[\"clientid\"],\n",
    "    client_secret = aicorecreds[\"clientsecret\"],\n",
    "    resource_group = \"default\"\n",
    ")"
   ]
  },
  {
   "cell_type": "code",
   "execution_count": 3,
   "id": "62691386-0658-4484-b4b9-cb5429366d1f",
   "metadata": {},
   "outputs": [],
   "source": [
    "# Create Connection to AI Core\n",
    "ai_core_client = AICoreV2Client(\n",
    "    base_url = \"https://api.ai.prod.eu-central-1.aws.ml.hana.ondemand.com\" + \"/v2\", # The present SAP AI Core API version is 2\n",
    "    auth_url=  \"<url>\" + \"/oauth/token\", # Suffix to add\n",
    "    client_id = \"<clientid>,\n",
    "    client_secret = \"<clientsecret>\",\n",
    "    resource_group = \"default\"\n",
    ")"
   ]
  },
  {
   "cell_type": "code",
   "execution_count": null,
   "id": "8b37e203-91b9-447c-8cbb-6c8de14ddfb2",
   "metadata": {},
   "outputs": [],
   "source": [
    "#list all available deployments\n",
    "deployments = ai_core_client.deployment.query()\n",
    "for deployment in deployments.resources:\n",
    "    print(f\"{deployment.id}\")"
   ]
  },
  {
   "cell_type": "code",
   "execution_count": null,
   "id": "36e430e4-2465-444e-a177-0a60dbd037f0",
   "metadata": {},
   "outputs": [],
   "source": [
    "# get the details of a certain deployment\n",
    "response = ai_core_client.deployment.get(\n",
    "    deployment_id=\"d0c5681323fd9f8b\",\n",
    "    resource_group=\"default\"\n",
    ")\n",
    "\n",
    "print(response.__dict__)"
   ]
  },
  {
   "cell_type": "code",
   "execution_count": 24,
   "id": "a52d4236-76cb-48c8-b0b5-84d776c801c5",
   "metadata": {},
   "outputs": [],
   "source": [
    "#Prepare the input for the Image Classification Prediction to be sent to BTP\n",
    "def images_to_json(image_path, image_name):\n",
    "    img_np = cv2.imencode('.jpg', cv2.imread(image_path+image_name))\n",
    "    image_string = base64.b64encode(img_np[1]).decode()\n",
    "  \n",
    "    return image_string"
   ]
  },
  {
   "cell_type": "code",
   "execution_count": 32,
   "id": "a8d98642-9422-46b4-ba7f-d04f0b265af6",
   "metadata": {},
   "outputs": [],
   "source": [
    "# Variables\n",
    "dir_path = \"<>\"\n",
    "deployment_url = '<>'"
   ]
  },
  {
   "cell_type": "code",
   "execution_count": null,
   "id": "90432c61-ab69-435a-8fa5-17b6b3dedbb3",
   "metadata": {},
   "outputs": [],
   "source": [
    "# get image prediction labels for all of the images in a directory\n",
    "\n",
    "image_names = os.listdir(dir_path)\n",
    "number_of_images = len(image_names)\n",
    "fig, axes = plt.subplots(1, number_of_images, figsize=(20, 4))\n",
    "\n",
    "for i in range(number_of_images):\n",
    "    image_name = image_names[i]\n",
    "    endpoint = f\"{deployment_url}/v2/labelpredict\" # endpoint implemented in serving engine\n",
    "    headers = {\"Authorization\": ai_core_client.rest_client.get_token(),\n",
    "           'ai-resource-group': \"default\",\n",
    "           \"Content-Type\": \"application/json\"}\n",
    "\n",
    "    image_string = images_to_json(dir_path, image_name)\n",
    "    \n",
    "    predict = requests.post(endpoint, headers=headers, json={'image_name': image_name, 'image_string': image_string})\n",
    "    \n",
    "    image_path = os.path.join(dir_path, image_name)\n",
    "    image = Image.open(image_path)\n",
    "    axes[i].imshow(image)\n",
    "    axes[i].set_title(f\"The predicted label is: {predict.json().get('label')}\")\n",
    "    axes[i].axis('off')\n",
    "plt.show()"
   ]
  },
  {
   "cell_type": "code",
   "execution_count": null,
   "id": "6414fdc4-aec7-47fc-bdb0-1c5c58715687",
   "metadata": {},
   "outputs": [],
   "source": []
  }
 ],
 "metadata": {
  "kernelspec": {
   "display_name": "Python 3 (ipykernel)",
   "language": "python",
   "name": "python3"
  },
  "language_info": {
   "codemirror_mode": {
    "name": "ipython",
    "version": 3
   },
   "file_extension": ".py",
   "mimetype": "text/x-python",
   "name": "python",
   "nbconvert_exporter": "python",
   "pygments_lexer": "ipython3",
   "version": "3.12.6"
  }
 },
 "nbformat": 4,
 "nbformat_minor": 5
}
