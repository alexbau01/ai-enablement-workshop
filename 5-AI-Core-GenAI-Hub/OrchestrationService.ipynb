{
 "cells": [
  {
   "metadata": {},
   "cell_type": "markdown",
   "source": "# Orchestration Service Tutorial",
   "id": "d4d8f0d470dd5ce2"
  },
  {
   "metadata": {},
   "cell_type": "markdown",
   "source": "This notebook demonstrates how to use the SDK to interact with the Orchestration Service, enabling you to build AI-driven workflows by combining multiple modules such as templating, large language models (LLM), and content filtering.",
   "id": "5cfa2bb46ec75e47"
  },
  {
   "metadata": {},
   "cell_type": "markdown",
   "source": [
    "## Initializing the Orchestration Service\n",
    "Before using the SDK, you need to set up a virtual deployment of the Orchestration Service. Once deployed, you'll have access to a unique endpoint URL."
   ],
   "id": "361c6244a294485e"
  },
  {
   "metadata": {
    "ExecuteTime": {
     "end_time": "2024-10-01T22:28:01.667250Z",
     "start_time": "2024-10-01T22:28:01.665469Z"
    }
   },
   "cell_type": "code",
   "source": "YOUR_API_URL = \"https://api.ai.prod.eu-central-1.aws.ml.hana.ondemand.com/v2/inference/deployments/d7af2243a66e5000\"",
   "id": "e522c0b92cd29e4d",
   "outputs": [],
   "execution_count": 1
  },
  {
   "metadata": {},
   "cell_type": "markdown",
   "source": [
    "## Basic Orchestration Pipeline\n",
    "\n",
    "Now that you have YOUR_API_URL, let's walk through a basic orchestration pipeline for a translation task."
   ],
   "id": "13691a6f5ffee555"
  },
  {
   "metadata": {},
   "cell_type": "markdown",
   "source": "### Step 1: Define the Template and Default Input Values",
   "id": "a59c47b7e4c0adfe"
  },
  {
   "metadata": {
    "ExecuteTime": {
     "end_time": "2024-10-01T22:28:02.257854Z",
     "start_time": "2024-10-01T22:28:01.723980Z"
    }
   },
   "cell_type": "code",
   "source": [
    "from gen_ai_hub.orchestration.models.message import SystemMessage, UserMessage\n",
    "from gen_ai_hub.orchestration.models.template import Template, TemplateValue\n",
    "\n",
    "template = Template(\n",
    "    messages=[\n",
    "        SystemMessage(\"You are a helpful translation assistant.\"),\n",
    "        UserMessage(\n",
    "            \"Translate the following text to {{?to_lang}}: {{?text}}\"\n",
    "        ),\n",
    "    ],\n",
    "    defaults=[\n",
    "        TemplateValue(name=\"to_lang\", value=\"German\"),\n",
    "    ],\n",
    ")"
   ],
   "id": "9a59d3a2a5266df5",
   "outputs": [],
   "execution_count": 2
  },
  {
   "metadata": {},
   "cell_type": "markdown",
   "source": "### Step 2: Define the LLM",
   "id": "1efb1b8a33d12de9"
  },
  {
   "metadata": {
    "ExecuteTime": {
     "end_time": "2024-10-01T22:28:02.261762Z",
     "start_time": "2024-10-01T22:28:02.258981Z"
    }
   },
   "cell_type": "code",
   "source": [
    "from gen_ai_hub.orchestration.models.llm import LLM\n",
    "\n",
    "llm = LLM(name=\"gpt-4o\", version=\"latest\", parameters={\"max_tokens\": 100, \"temperature\": 0})"
   ],
   "id": "cf3356f0268f267",
   "outputs": [],
   "execution_count": 3
  },
  {
   "metadata": {},
   "cell_type": "markdown",
   "source": "### Step 3: Create the Orchestration Configuration",
   "id": "c97ee26cf9c303b7"
  },
  {
   "metadata": {
    "ExecuteTime": {
     "end_time": "2024-10-01T22:28:02.270846Z",
     "start_time": "2024-10-01T22:28:02.262346Z"
    }
   },
   "cell_type": "code",
   "source": [
    "from gen_ai_hub.orchestration.models.config import OrchestrationConfig\n",
    "\n",
    "config = OrchestrationConfig(\n",
    "    template=template,\n",
    "    llm=llm,\n",
    ")"
   ],
   "id": "c5c18daf6bec0aec",
   "outputs": [],
   "execution_count": 4
  },
  {
   "metadata": {},
   "cell_type": "markdown",
   "source": "### Step 4: Run the Orchestration Request",
   "id": "26802bca242e40e0"
  },
  {
   "metadata": {
    "ExecuteTime": {
     "end_time": "2024-10-01T22:28:04.227652Z",
     "start_time": "2024-10-01T22:28:02.272227Z"
    }
   },
   "cell_type": "code",
   "source": [
    "from gen_ai_hub.orchestration.service import OrchestrationService\n",
    "\n",
    "orchestration_service = OrchestrationService(api_url=YOUR_API_URL, config=config)\n",
    "result = orchestration_service.run(template_values=[\n",
    "    TemplateValue(name=\"text\", value=\"The Orchestration Service is working!\")\n",
    "])"
   ],
   "id": "c7c7a3b8cfef44c1",
   "outputs": [],
   "execution_count": 5
  },
  {
   "metadata": {
    "ExecuteTime": {
     "end_time": "2024-10-01T22:28:04.232784Z",
     "start_time": "2024-10-01T22:28:04.229380Z"
    }
   },
   "cell_type": "code",
   "source": "print(result.orchestration_result.choices[0].message.content)",
   "id": "ea61f817f25c985c",
   "outputs": [
    {
     "name": "stdout",
     "output_type": "stream",
     "text": [
      "Der Orchestrierungsdienst funktioniert!\n"
     ]
    }
   ],
   "execution_count": 6
  },
  {
   "metadata": {},
   "cell_type": "markdown",
   "source": "## Optional Modules",
   "id": "994a9645b29ef1db"
  },
  {
   "metadata": {},
   "cell_type": "markdown",
   "source": [
    "### Content Filtering\n",
    "\n",
    "The Orchestration Service supports content filtering to moderate input and output. Let's explore how to set up and use content filtering."
   ],
   "id": "6beb1e933ba1eada"
  },
  {
   "metadata": {
    "ExecuteTime": {
     "end_time": "2024-10-01T22:28:54.048726Z",
     "start_time": "2024-10-01T22:28:54.045095Z"
    }
   },
   "cell_type": "code",
   "source": [
    "from gen_ai_hub.orchestration.models.content_filter import AzureContentFilter\n",
    "\n",
    "content_filter = AzureContentFilter(\n",
    "    hate=0,\n",
    "    sexual=4,\n",
    "    self_harm=0,\n",
    "    violence=2,\n",
    ")\n",
    "\n",
    "orchestration_service.config.input_filters = [content_filter]\n",
    "orchestration_service.config.output_filters = [content_filter]"
   ],
   "id": "6ff60002292d04a4",
   "outputs": [],
   "execution_count": 8
  },
  {
   "metadata": {
    "ExecuteTime": {
     "end_time": "2024-10-01T22:28:56.244319Z",
     "start_time": "2024-10-01T22:28:55.793399Z"
    }
   },
   "cell_type": "code",
   "source": [
    "from gen_ai_hub.orchestration.exceptions import OrchestrationError\n",
    "\n",
    "try:\n",
    "    result = orchestration_service.run(template_values=[\n",
    "        TemplateValue(name=\"text\", value=\"I hate you\")\n",
    "    ])\n",
    "except OrchestrationError as error:\n",
    "    print(error.message)"
   ],
   "id": "fc2bc3e0e569ada3",
   "outputs": [
    {
     "name": "stdout",
     "output_type": "stream",
     "text": [
      "Content filtered due to Safety violations. Please modify the prompt and try again.\n"
     ]
    }
   ],
   "execution_count": 9
  },
  {
   "metadata": {},
   "cell_type": "markdown",
   "source": "## Advanced Examples",
   "id": "fb761855b9abc42c"
  },
  {
   "metadata": {
    "ExecuteTime": {
     "end_time": "2024-10-01T22:29:01.292541Z",
     "start_time": "2024-10-01T22:29:01.289908Z"
    }
   },
   "cell_type": "code",
   "source": "service = OrchestrationService(api_url=YOUR_API_URL)",
   "id": "7476db3ffb49eb14",
   "outputs": [],
   "execution_count": 10
  },
  {
   "metadata": {},
   "cell_type": "markdown",
   "source": "### Translation Service",
   "id": "10c1f142ece2d309"
  },
  {
   "metadata": {
    "ExecuteTime": {
     "end_time": "2024-10-01T22:29:03.781468Z",
     "start_time": "2024-10-01T22:29:03.777702Z"
    }
   },
   "cell_type": "code",
   "source": [
    "from gen_ai_hub.orchestration.models.config import OrchestrationConfig\n",
    "from gen_ai_hub.orchestration.models.llm import LLM\n",
    "from gen_ai_hub.orchestration.models.message import SystemMessage, UserMessage\n",
    "from gen_ai_hub.orchestration.models.template import Template, TemplateValue\n",
    "from gen_ai_hub.orchestration.service import OrchestrationService\n",
    "\n",
    "\n",
    "class TranslationService:\n",
    "    def __init__(self, orchestration_service: OrchestrationService):\n",
    "        self.service = orchestration_service\n",
    "        self.config = OrchestrationConfig(\n",
    "            template=Template(\n",
    "                messages=[\n",
    "                    SystemMessage(\"You are a helpful translation assistant.\"),\n",
    "                    UserMessage(\n",
    "                        \"Translate the following text to {{?to_lang}}: {{?text}}\"\n",
    "                    ),\n",
    "                ],\n",
    "                defaults=[\n",
    "                    TemplateValue(name=\"to_lang\", value=\"English\"),\n",
    "                ],\n",
    "            ),\n",
    "            llm=LLM(name=\"gpt-4o\"),\n",
    "        )\n",
    "\n",
    "    def translate(self, text, to_lang):\n",
    "        response = self.service.run(\n",
    "            config=self.config,\n",
    "            template_values=[\n",
    "                TemplateValue(name=\"to_lang\", value=to_lang),\n",
    "                TemplateValue(name=\"text\", value=text),\n",
    "            ],\n",
    "        )\n",
    "\n",
    "        return response.orchestration_result.choices[0].message.content\n"
   ],
   "id": "72113e559b0875ad",
   "outputs": [],
   "execution_count": 11
  },
  {
   "metadata": {
    "ExecuteTime": {
     "end_time": "2024-10-01T22:29:05.909220Z",
     "start_time": "2024-10-01T22:29:05.906923Z"
    }
   },
   "cell_type": "code",
   "source": "translator = TranslationService(orchestration_service=service)",
   "id": "bb2e43db6665d162",
   "outputs": [],
   "execution_count": 12
  },
  {
   "metadata": {
    "ExecuteTime": {
     "end_time": "2024-10-01T22:29:07.082657Z",
     "start_time": "2024-10-01T22:29:06.319698Z"
    }
   },
   "cell_type": "code",
   "source": [
    "result = translator.translate(text=\"Hello, world!\", to_lang=\"French\")\n",
    "print(result)"
   ],
   "id": "b48f620b8ece05b1",
   "outputs": [
    {
     "name": "stdout",
     "output_type": "stream",
     "text": [
      "Bonjour, le monde!\n"
     ]
    }
   ],
   "execution_count": 13
  },
  {
   "metadata": {
    "ExecuteTime": {
     "end_time": "2024-10-01T22:29:07.801275Z",
     "start_time": "2024-10-01T22:29:07.083655Z"
    }
   },
   "cell_type": "code",
   "source": [
    "result = translator.translate(text=\"Hello, world!\", to_lang=\"Spanish\")\n",
    "print(result)"
   ],
   "id": "3c9cd07907bda369",
   "outputs": [
    {
     "name": "stdout",
     "output_type": "stream",
     "text": [
      "¡Hola, mundo!\n"
     ]
    }
   ],
   "execution_count": 14
  },
  {
   "metadata": {
    "ExecuteTime": {
     "end_time": "2024-10-01T22:29:08.622476Z",
     "start_time": "2024-10-01T22:29:07.802069Z"
    }
   },
   "cell_type": "code",
   "source": [
    "result = translator.translate(text=\"Hello, world!\", to_lang=\"German\")\n",
    "print(result)"
   ],
   "id": "6eafbcb25180d359",
   "outputs": [
    {
     "name": "stdout",
     "output_type": "stream",
     "text": [
      "Hallo, Welt!\n"
     ]
    }
   ],
   "execution_count": 15
  },
  {
   "metadata": {},
   "cell_type": "markdown",
   "source": "### Chatbot with Memory",
   "id": "67bb6ee8f9221c0f"
  },
  {
   "metadata": {
    "ExecuteTime": {
     "end_time": "2024-10-01T22:29:09.093607Z",
     "start_time": "2024-10-01T22:29:09.089376Z"
    }
   },
   "cell_type": "code",
   "source": [
    "from typing import List\n",
    "\n",
    "from gen_ai_hub.orchestration.models.config import OrchestrationConfig\n",
    "from gen_ai_hub.orchestration.models.llm import LLM\n",
    "from gen_ai_hub.orchestration.models.message import Message, SystemMessage, UserMessage\n",
    "from gen_ai_hub.orchestration.models.template import Template, TemplateValue\n",
    "from gen_ai_hub.orchestration.service import OrchestrationService\n",
    "\n",
    "\n",
    "class ChatBot:\n",
    "    def __init__(self, orchestration_service: OrchestrationService):\n",
    "        self.service = orchestration_service\n",
    "        self.config = OrchestrationConfig(\n",
    "            template=Template(\n",
    "                messages=[\n",
    "                    SystemMessage(\"You are a helpful chatbot assistant.\"),\n",
    "                    UserMessage(\"{{?user_query}}\"),\n",
    "                ],\n",
    "            ),\n",
    "            llm=LLM(name=\"gpt-4\"),\n",
    "        )\n",
    "        self.history: List[Message] = []\n",
    "\n",
    "    def chat(self, user_input):\n",
    "        response = self.service.run(\n",
    "            config=self.config,\n",
    "            template_values=[\n",
    "                TemplateValue(name=\"user_query\", value=user_input),\n",
    "            ],\n",
    "            history=self.history,\n",
    "        )\n",
    "        \n",
    "        message = response.orchestration_result.choices[0].message\n",
    "\n",
    "        self.history = response.module_results.templating\n",
    "        self.history.append(message)\n",
    "\n",
    "        return message.content"
   ],
   "id": "28a57d005dd6abfa",
   "outputs": [],
   "execution_count": 16
  },
  {
   "metadata": {
    "ExecuteTime": {
     "end_time": "2024-10-01T22:29:10.223626Z",
     "start_time": "2024-10-01T22:29:10.221511Z"
    }
   },
   "cell_type": "code",
   "source": "bot = ChatBot(orchestration_service=service)",
   "id": "25bac947d3f51ba2",
   "outputs": [],
   "execution_count": 17
  },
  {
   "metadata": {
    "ExecuteTime": {
     "end_time": "2024-10-01T22:29:12.033319Z",
     "start_time": "2024-10-01T22:29:10.418657Z"
    }
   },
   "cell_type": "code",
   "source": "print(bot.chat(\"Hello, how are you?\"))",
   "id": "de06e9761b7af5f0",
   "outputs": [
    {
     "name": "stdout",
     "output_type": "stream",
     "text": [
      "Hello! I'm just a computer program, so I don't have feelings, but I'm here and ready to help you. What can I assist you with today?\n"
     ]
    }
   ],
   "execution_count": 18
  },
  {
   "metadata": {
    "ExecuteTime": {
     "end_time": "2024-10-01T22:29:14.086411Z",
     "start_time": "2024-10-01T22:29:12.034301Z"
    }
   },
   "cell_type": "code",
   "source": "print(bot.chat(\"What's the weather like today?\"))",
   "id": "8d4b835cbd787bb4",
   "outputs": [
    {
     "name": "stdout",
     "output_type": "stream",
     "text": [
      "I don't have real-time data capabilities, so I can't provide current weather information. I recommend checking a reliable weather website or using a weather app on your mobile device to get the most accurate and up-to-date information. How else may I assist you today?\n"
     ]
    }
   ],
   "execution_count": 19
  },
  {
   "metadata": {
    "ExecuteTime": {
     "end_time": "2024-10-01T22:29:15.488629Z",
     "start_time": "2024-10-01T22:29:14.087163Z"
    }
   },
   "cell_type": "code",
   "source": "print(bot.chat(\"Can you remember what I first asked you?\"))",
   "id": "ce80d406ccab9e68",
   "outputs": [
    {
     "name": "stdout",
     "output_type": "stream",
     "text": [
      "Yes, you first asked \"Hello, how are you?\" How can I assist you further today?\n"
     ]
    }
   ],
   "execution_count": 20
  },
  {
   "metadata": {},
   "cell_type": "markdown",
   "source": "### Sentiment Analysis with Few Shot Learning ",
   "id": "d0fee7d2dd8af5a4"
  },
  {
   "metadata": {
    "ExecuteTime": {
     "end_time": "2024-10-01T22:29:15.495432Z",
     "start_time": "2024-10-01T22:29:15.490537Z"
    }
   },
   "cell_type": "code",
   "source": [
    "from typing import List, Tuple\n",
    "\n",
    "from gen_ai_hub.orchestration.models.config import OrchestrationConfig\n",
    "from gen_ai_hub.orchestration.models.llm import LLM\n",
    "from gen_ai_hub.orchestration.models.message import (\n",
    "    SystemMessage,\n",
    "    UserMessage,\n",
    "    AssistantMessage,\n",
    ")\n",
    "from gen_ai_hub.orchestration.models.template import Template, TemplateValue\n",
    "from gen_ai_hub.orchestration.service import OrchestrationService\n",
    "\n",
    "class FewShotLearner:\n",
    "    def __init__(\n",
    "        self,\n",
    "        orchestration_service: OrchestrationService,\n",
    "        system_message: SystemMessage,\n",
    "        examples: List[Tuple[UserMessage, AssistantMessage]],\n",
    "    ):\n",
    "        self.service = orchestration_service\n",
    "        self.config = OrchestrationConfig(\n",
    "            template=self._create_few_shot_template(system_message, examples),\n",
    "            llm=LLM(name=\"gpt-4o\"),\n",
    "        )\n",
    "\n",
    "    @staticmethod\n",
    "    def _create_few_shot_template(\n",
    "        system_message: SystemMessage,\n",
    "        examples: List[Tuple[UserMessage, AssistantMessage]],\n",
    "    ) -> Template:\n",
    "        messages = [system_message]\n",
    "\n",
    "        for example in examples:\n",
    "            messages.append(example[0])\n",
    "            messages.append(example[1])\n",
    "        messages.append(UserMessage(\"{{?user_input}}\"))\n",
    "\n",
    "        return Template(messages=messages)\n",
    "\n",
    "    def predict(self, user_input: str) -> str:\n",
    "        response = self.service.run(\n",
    "            config=self.config,\n",
    "            template_values=[TemplateValue(name=\"user_input\", value=user_input)],\n",
    "        )\n",
    "\n",
    "        return response.orchestration_result.choices[0].message.content"
   ],
   "id": "9296deee2b6a286e",
   "outputs": [],
   "execution_count": 21
  },
  {
   "metadata": {
    "ExecuteTime": {
     "end_time": "2024-10-01T22:29:15.498528Z",
     "start_time": "2024-10-01T22:29:15.496437Z"
    }
   },
   "cell_type": "code",
   "source": [
    "sentiment_examples = [\n",
    "    (UserMessage(\"I love this product!\"), AssistantMessage(\"Positive\")),\n",
    "    (UserMessage(\"This is terrible service.\"), AssistantMessage(\"Negative\")),\n",
    "    (UserMessage(\"The weather is okay today.\"), AssistantMessage(\"Neutral\")),\n",
    "]"
   ],
   "id": "d1b054f8f344a862",
   "outputs": [],
   "execution_count": 22
  },
  {
   "metadata": {
    "ExecuteTime": {
     "end_time": "2024-10-01T22:29:15.501790Z",
     "start_time": "2024-10-01T22:29:15.499685Z"
    }
   },
   "cell_type": "code",
   "source": [
    "sentiment_analyzer = FewShotLearner(\n",
    "    orchestration_service=service,\n",
    "    system_message=SystemMessage(\n",
    "        \"You are a sentiment analysis assistant. Classify the sentiment as Positive, Negative, or Neutral.\"\n",
    "    ),\n",
    "    examples=sentiment_examples,\n",
    ")"
   ],
   "id": "d5babd104942009f",
   "outputs": [],
   "execution_count": 23
  },
  {
   "metadata": {
    "ExecuteTime": {
     "end_time": "2024-10-01T22:29:16.197983Z",
     "start_time": "2024-10-01T22:29:15.502783Z"
    }
   },
   "cell_type": "code",
   "source": "print(sentiment_analyzer.predict(\"The movie was a complete waste of time!\"))",
   "id": "f11c1b1bf9625782",
   "outputs": [
    {
     "name": "stdout",
     "output_type": "stream",
     "text": [
      "Negative\n"
     ]
    }
   ],
   "execution_count": 24
  },
  {
   "metadata": {
    "ExecuteTime": {
     "end_time": "2024-10-01T22:29:16.846253Z",
     "start_time": "2024-10-01T22:29:16.198768Z"
    }
   },
   "cell_type": "code",
   "source": [
    "print(\n",
    "    sentiment_analyzer.predict(\"The traffic was fortunately unusually light today.\")\n",
    ")"
   ],
   "id": "52f3cde99c4b35f4",
   "outputs": [
    {
     "name": "stdout",
     "output_type": "stream",
     "text": [
      "Positive\n"
     ]
    }
   ],
   "execution_count": 25
  },
  {
   "metadata": {
    "ExecuteTime": {
     "end_time": "2024-10-01T22:29:17.500126Z",
     "start_time": "2024-10-01T22:29:16.847022Z"
    }
   },
   "cell_type": "code",
   "source": [
    "print(\n",
    "    sentiment_analyzer.predict(\"I'm not sure how I feel about the recent events.\")\n",
    ")"
   ],
   "id": "6556f4990073d78f",
   "outputs": [
    {
     "name": "stdout",
     "output_type": "stream",
     "text": [
      "Neutral\n"
     ]
    }
   ],
   "execution_count": 26
  },
  {
   "metadata": {
    "ExecuteTime": {
     "end_time": "2024-10-01T22:29:18.162156Z",
     "start_time": "2024-10-01T22:29:17.502056Z"
    }
   },
   "cell_type": "code",
   "source": [
    "print(\n",
    "    sentiment_analyzer.predict(\"The movie was so bad that I couldn't stop watching\")\n",
    ")"
   ],
   "id": "af9ab7f8cab8ae69",
   "outputs": [
    {
     "name": "stdout",
     "output_type": "stream",
     "text": [
      "Negative\n"
     ]
    }
   ],
   "execution_count": 27
  },
  {
   "metadata": {},
   "cell_type": "code",
   "source": "",
   "id": "daa6446d01c42091",
   "outputs": [],
   "execution_count": null
  }
 ],
 "metadata": {
  "kernelspec": {
   "display_name": "Python 3",
   "language": "python",
   "name": "python3"
  },
  "language_info": {
   "codemirror_mode": {
    "name": "ipython",
    "version": 2
   },
   "file_extension": ".py",
   "mimetype": "text/x-python",
   "name": "python",
   "nbconvert_exporter": "python",
   "pygments_lexer": "ipython2",
   "version": "2.7.6"
  }
 },
 "nbformat": 4,
 "nbformat_minor": 5
}
