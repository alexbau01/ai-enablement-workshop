{
 "cells": [
  {
   "metadata": {},
   "cell_type": "markdown",
   "source": [
    "# Langchain Q&A with RAG\n",
    "\n",
    "Important: Set your unique id in the cell below. This will be used to create a unique table name in HANA.\n",
    "\n",
    "Make sure not to have any (leading or trailing) spaces in the unique id. If you have spaces, replace them with underscores."
   ],
   "id": "9224b62224953326"
  },
  {
   "metadata": {
    "ExecuteTime": {
     "end_time": "2024-10-01T20:46:16.348423Z",
     "start_time": "2024-10-01T20:46:16.346314Z"
    }
   },
   "cell_type": "code",
   "source": "YOUR_UNIQUE_ID = \"<INSERT_YOUR_ID_HERE>\".upper()",
   "id": "a2cb350449f48653",
   "outputs": [],
   "execution_count": 27
  },
  {
   "cell_type": "code",
   "id": "9ae4a6cf-908b-4f89-a6a9-bd9f0a18c896",
   "metadata": {
    "ExecuteTime": {
     "end_time": "2024-10-01T20:46:16.388653Z",
     "start_time": "2024-10-01T20:46:16.378190Z"
    }
   },
   "source": [
    "# Get HANA credentials\n",
    "import json\n",
    "try:\n",
    "    # load keyfile from ../secrets/hana.json\n",
    "    with open(\"../secrets/hana.json\") as f:\n",
    "        dbcreds = json.load(f)\n",
    "        print(\"Found HANA credentials.\")\n",
    "except:\n",
    "    print(\"Failed to load keyfile. Please make sure you have stored the file in a folder called 'secrets' located in project root.\")"
   ],
   "outputs": [
    {
     "name": "stdout",
     "output_type": "stream",
     "text": [
      "Found HANA credentials.\n"
     ]
    }
   ],
   "execution_count": 28
  },
  {
   "cell_type": "code",
   "id": "ba6209e5-0e88-485a-a336-1f3a788d4cbf",
   "metadata": {
    "ExecuteTime": {
     "end_time": "2024-10-01T20:46:16.404288Z",
     "start_time": "2024-10-01T20:46:16.393193Z"
    }
   },
   "source": [
    "# Set up AI Core OpenAI Langchain Proxy connection using generative-ai-hub-sdk\n",
    "from gen_ai_hub.proxy.langchain.openai import OpenAIEmbeddings\n",
    "embed = OpenAIEmbeddings(proxy_model_name='text-embedding-3-small')"
   ],
   "outputs": [],
   "execution_count": 29
  },
  {
   "cell_type": "code",
   "id": "eb89bf16",
   "metadata": {
    "ExecuteTime": {
     "end_time": "2024-10-01T20:46:17.481403Z",
     "start_time": "2024-10-01T20:46:16.405292Z"
    }
   },
   "source": [
    "# Create a connection using hana-ml\n",
    "from hana_ml import ConnectionContext\n",
    "\n",
    "# cc = ConnectionContext(userkey='VDB_BETA', encrypt=True) # when using key from hdbuserstore\n",
    "cc= ConnectionContext(\n",
    "    address=dbcreds[\"host\"], \n",
    "    port=dbcreds[\"port\"], \n",
    "    user=dbcreds[\"user\"], \n",
    "    password=dbcreds[\"password\"], \n",
    "    encrypt=True\n",
    "    )\n",
    "connection = cc.connection\n",
    "hana_schema = cc.get_current_schema()\n",
    "print(cc.hana_version())\n",
    "print(hana_schema)"
   ],
   "outputs": [
    {
     "name": "stdout",
     "output_type": "stream",
     "text": [
      "4.00.000.00.1726574991 (fa/CE2024.28)\n",
      "USR_59GP137CB6UCA1OVEH3DIIEMU\n"
     ]
    }
   ],
   "execution_count": 30
  },
  {
   "cell_type": "code",
   "id": "ba8e41d6",
   "metadata": {
    "ExecuteTime": {
     "end_time": "2024-10-01T20:46:17.730561Z",
     "start_time": "2024-10-01T20:46:17.482571Z"
    }
   },
   "source": [
    "from langchain_community.vectorstores.hanavector import HanaDB\n",
    "\n",
    "embeddings_table = f\"{YOUR_UNIQUE_ID}_LANGCHAIN_RAG_CHAIN\"\n",
    "\n",
    "# creates a table if it does not exists yet\n",
    "db = HanaDB(\n",
    "    embedding=embed, connection=connection, table_name=embeddings_table\n",
    ")"
   ],
   "outputs": [],
   "execution_count": 31
  },
  {
   "cell_type": "code",
   "id": "5467234b",
   "metadata": {
    "ExecuteTime": {
     "end_time": "2024-10-01T20:46:17.790330Z",
     "start_time": "2024-10-01T20:46:17.731243Z"
    }
   },
   "source": [
    "# Delete already existing documents from the table\n",
    "db.delete(filter={})"
   ],
   "outputs": [
    {
     "data": {
      "text/plain": [
       "True"
      ]
     },
     "execution_count": 32,
     "metadata": {},
     "output_type": "execute_result"
    }
   ],
   "execution_count": 32
  },
  {
   "metadata": {},
   "cell_type": "markdown",
   "source": [
    "# Load a PDF document and add it to the table\n",
    "\n",
    "Important: If you want to use a local document instead of the one downloaded from the web that we are using by default, make sure to have the document available in the data folder. If you want to use a different document, change the file path or web url accordingly.\n",
    "\n",
    "To add the document to the data folder, create a subfolder called data in the folder where this notebook is located. Then, add the document to the data folder.\n",
    "\n",
    "Make sure to rename the file or adjust the file path accordingly."
   ],
   "id": "fac457c867a37557"
  },
  {
   "metadata": {
    "ExecuteTime": {
     "end_time": "2024-10-01T20:46:22.280147Z",
     "start_time": "2024-10-01T20:46:17.791749Z"
    }
   },
   "cell_type": "code",
   "source": [
    "from langchain_community.document_loaders import PyPDFLoader\n",
    "from langchain_text_splitters import RecursiveCharacterTextSplitter\n",
    "\n",
    "# local_file_path = \"./data/genaihub_ai_core.pdf\"\n",
    "web_file_path = \"https://help.sap.com/doc/c31b38b32a5d4e07a4488cb0f8bb55d9/CLOUD/en-US/f17fa8568d0448c685f2a0301061a6ee.pdf\"\n",
    "\n",
    "loader = PyPDFLoader(web_file_path, extract_images=False)\n",
    "text_splitter = RecursiveCharacterTextSplitter(chunk_size=1000, chunk_overlap=50)\n",
    "text_chunks = loader.load_and_split(text_splitter)\n",
    "\n",
    "print(text_chunks[0])\n",
    "\n",
    "print(f\"Number of document chunks: {len(text_chunks)}\")"
   ],
   "id": "123ff46eae8b81a9",
   "outputs": [
    {
     "name": "stdout",
     "output_type": "stream",
     "text": [
      "page_content='Service Guide | PUBLIC\n",
      "2024-09-17\n",
      "SAP AI Core© 2024 SAP SE or an SAP affiliate  company. All rights reserved.\n",
      "THE BEST RUN' metadata={'source': 'https://help.sap.com/doc/c31b38b32a5d4e07a4488cb0f8bb55d9/CLOUD/en-US/f17fa8568d0448c685f2a0301061a6ee.pdf', 'page': 0}\n",
      "Number of document chunks: 619\n"
     ]
    }
   ],
   "execution_count": 33
  },
  {
   "metadata": {
    "ExecuteTime": {
     "end_time": "2024-10-01T20:47:12.783135Z",
     "start_time": "2024-10-01T20:46:22.280999Z"
    }
   },
   "cell_type": "code",
   "source": [
    "split_chunks = [text_chunks[i:i+100] for i in range(0, len(text_chunks), 100)]\n",
    "# add the loaded document chunks\n",
    "for chunks in split_chunks:\n",
    "    db.add_documents(chunks)"
   ],
   "id": "e6f1277e6000b856",
   "outputs": [],
   "execution_count": 34
  },
  {
   "metadata": {
    "ExecuteTime": {
     "end_time": "2024-10-01T20:47:13.034190Z",
     "start_time": "2024-10-01T20:47:12.785076Z"
    }
   },
   "cell_type": "code",
   "source": [
    "# take a look at the table\n",
    "hdf = cc.sql(f''' SELECT \"VEC_TEXT\", \"VEC_META\", TO_NVARCHAR(\"VEC_VECTOR\") AS \"VEC_VECTOR\" FROM {embeddings_table} ''')\n",
    "localdf = hdf.head(10).collect()\n",
    "localdf"
   ],
   "id": "c6aa4aa7fa9ef550",
   "outputs": [
    {
     "data": {
      "text/plain": [
       "                                            VEC_TEXT  \\\n",
       "0  Service Guide | PUBLIC\\n2024-09-17\\nSAP AI Cor...   \n",
       "1  Content\\n1 What Is SAP AI Core? .................   \n",
       "2  4.1 Free Tier ...................................   \n",
       "3  Enable Cloud Foundry ............................   \n",
       "4  Create an Application to Sync Y our Folders .....   \n",
       "5  7 .4 Manage Object Store Secrets ................   \n",
       "6  Update a Generic Secret .........................   \n",
       "7  8.4 Orchestration ...............................   \n",
       "8  Connect Y our Data ..............................   \n",
       "9  11.1 Security Features of Data, Data Flow, and...   \n",
       "\n",
       "                                            VEC_META  \\\n",
       "0  {\"source\": \"https://help.sap.com/doc/c31b38b32...   \n",
       "1  {\"source\": \"https://help.sap.com/doc/c31b38b32...   \n",
       "2  {\"source\": \"https://help.sap.com/doc/c31b38b32...   \n",
       "3  {\"source\": \"https://help.sap.com/doc/c31b38b32...   \n",
       "4  {\"source\": \"https://help.sap.com/doc/c31b38b32...   \n",
       "5  {\"source\": \"https://help.sap.com/doc/c31b38b32...   \n",
       "6  {\"source\": \"https://help.sap.com/doc/c31b38b32...   \n",
       "7  {\"source\": \"https://help.sap.com/doc/c31b38b32...   \n",
       "8  {\"source\": \"https://help.sap.com/doc/c31b38b32...   \n",
       "9  {\"source\": \"https://help.sap.com/doc/c31b38b32...   \n",
       "\n",
       "                                          VEC_VECTOR  \n",
       "0  [-0.01243771,0.026832066,0.014955354,-0.018389...  \n",
       "1  [-0.009583199,-0.007215989,0.065046825,-0.0143...  \n",
       "2  [-0.0016880932,-0.009460846,0.06440146,-0.0158...  \n",
       "3  [0.011808621,0.016032327,0.063063875,-0.030212...  \n",
       "4  [-0.00795204,0.042798124,0.046562128,-0.017425...  \n",
       "5  [0.005675242,0.031929195,0.04001284,-0.0357683...  \n",
       "6  [0.00043142107,-0.009738354,0.08119084,-0.0111...  \n",
       "7  [0.025592165,-0.01682132,0.05037549,-0.0211309...  \n",
       "8  [0.015408695,0.010766252,0.040982418,-0.028313...  \n",
       "9  [0.0040854346,0.017747745,0.099012434,-0.01032...  "
      ],
      "text/html": [
       "<div>\n",
       "<style scoped>\n",
       "    .dataframe tbody tr th:only-of-type {\n",
       "        vertical-align: middle;\n",
       "    }\n",
       "\n",
       "    .dataframe tbody tr th {\n",
       "        vertical-align: top;\n",
       "    }\n",
       "\n",
       "    .dataframe thead th {\n",
       "        text-align: right;\n",
       "    }\n",
       "</style>\n",
       "<table border=\"1\" class=\"dataframe\">\n",
       "  <thead>\n",
       "    <tr style=\"text-align: right;\">\n",
       "      <th></th>\n",
       "      <th>VEC_TEXT</th>\n",
       "      <th>VEC_META</th>\n",
       "      <th>VEC_VECTOR</th>\n",
       "    </tr>\n",
       "  </thead>\n",
       "  <tbody>\n",
       "    <tr>\n",
       "      <th>0</th>\n",
       "      <td>Service Guide | PUBLIC\\n2024-09-17\\nSAP AI Cor...</td>\n",
       "      <td>{\"source\": \"https://help.sap.com/doc/c31b38b32...</td>\n",
       "      <td>[-0.01243771,0.026832066,0.014955354,-0.018389...</td>\n",
       "    </tr>\n",
       "    <tr>\n",
       "      <th>1</th>\n",
       "      <td>Content\\n1 What Is SAP AI Core? .................</td>\n",
       "      <td>{\"source\": \"https://help.sap.com/doc/c31b38b32...</td>\n",
       "      <td>[-0.009583199,-0.007215989,0.065046825,-0.0143...</td>\n",
       "    </tr>\n",
       "    <tr>\n",
       "      <th>2</th>\n",
       "      <td>4.1 Free Tier ...................................</td>\n",
       "      <td>{\"source\": \"https://help.sap.com/doc/c31b38b32...</td>\n",
       "      <td>[-0.0016880932,-0.009460846,0.06440146,-0.0158...</td>\n",
       "    </tr>\n",
       "    <tr>\n",
       "      <th>3</th>\n",
       "      <td>Enable Cloud Foundry ............................</td>\n",
       "      <td>{\"source\": \"https://help.sap.com/doc/c31b38b32...</td>\n",
       "      <td>[0.011808621,0.016032327,0.063063875,-0.030212...</td>\n",
       "    </tr>\n",
       "    <tr>\n",
       "      <th>4</th>\n",
       "      <td>Create an Application to Sync Y our Folders .....</td>\n",
       "      <td>{\"source\": \"https://help.sap.com/doc/c31b38b32...</td>\n",
       "      <td>[-0.00795204,0.042798124,0.046562128,-0.017425...</td>\n",
       "    </tr>\n",
       "    <tr>\n",
       "      <th>5</th>\n",
       "      <td>7 .4 Manage Object Store Secrets ................</td>\n",
       "      <td>{\"source\": \"https://help.sap.com/doc/c31b38b32...</td>\n",
       "      <td>[0.005675242,0.031929195,0.04001284,-0.0357683...</td>\n",
       "    </tr>\n",
       "    <tr>\n",
       "      <th>6</th>\n",
       "      <td>Update a Generic Secret .........................</td>\n",
       "      <td>{\"source\": \"https://help.sap.com/doc/c31b38b32...</td>\n",
       "      <td>[0.00043142107,-0.009738354,0.08119084,-0.0111...</td>\n",
       "    </tr>\n",
       "    <tr>\n",
       "      <th>7</th>\n",
       "      <td>8.4 Orchestration ...............................</td>\n",
       "      <td>{\"source\": \"https://help.sap.com/doc/c31b38b32...</td>\n",
       "      <td>[0.025592165,-0.01682132,0.05037549,-0.0211309...</td>\n",
       "    </tr>\n",
       "    <tr>\n",
       "      <th>8</th>\n",
       "      <td>Connect Y our Data ..............................</td>\n",
       "      <td>{\"source\": \"https://help.sap.com/doc/c31b38b32...</td>\n",
       "      <td>[0.015408695,0.010766252,0.040982418,-0.028313...</td>\n",
       "    </tr>\n",
       "    <tr>\n",
       "      <th>9</th>\n",
       "      <td>11.1 Security Features of Data, Data Flow, and...</td>\n",
       "      <td>{\"source\": \"https://help.sap.com/doc/c31b38b32...</td>\n",
       "      <td>[0.0040854346,0.017747745,0.099012434,-0.01032...</td>\n",
       "    </tr>\n",
       "  </tbody>\n",
       "</table>\n",
       "</div>"
      ]
     },
     "execution_count": 35,
     "metadata": {},
     "output_type": "execute_result"
    }
   ],
   "execution_count": 35
  },
  {
   "metadata": {
    "ExecuteTime": {
     "end_time": "2024-10-01T20:48:30.089429Z",
     "start_time": "2024-10-01T20:48:30.009264Z"
    }
   },
   "cell_type": "code",
   "source": [
    "countdf = cc.sql(f''' SELECT COUNT(*) FROM {embeddings_table} ''').collect()\n",
    "countdf"
   ],
   "id": "3fa54b60d3c032fe",
   "outputs": [
    {
     "data": {
      "text/plain": [
       "   COUNT(*)\n",
       "0       619"
      ],
      "text/html": [
       "<div>\n",
       "<style scoped>\n",
       "    .dataframe tbody tr th:only-of-type {\n",
       "        vertical-align: middle;\n",
       "    }\n",
       "\n",
       "    .dataframe tbody tr th {\n",
       "        vertical-align: top;\n",
       "    }\n",
       "\n",
       "    .dataframe thead th {\n",
       "        text-align: right;\n",
       "    }\n",
       "</style>\n",
       "<table border=\"1\" class=\"dataframe\">\n",
       "  <thead>\n",
       "    <tr style=\"text-align: right;\">\n",
       "      <th></th>\n",
       "      <th>COUNT(*)</th>\n",
       "    </tr>\n",
       "  </thead>\n",
       "  <tbody>\n",
       "    <tr>\n",
       "      <th>0</th>\n",
       "      <td>619</td>\n",
       "    </tr>\n",
       "  </tbody>\n",
       "</table>\n",
       "</div>"
      ]
     },
     "execution_count": 45,
     "metadata": {},
     "output_type": "execute_result"
    }
   ],
   "execution_count": 45
  },
  {
   "metadata": {},
   "cell_type": "markdown",
   "source": "## Raw similarity search",
   "id": "60cf0312b9f40f8c"
  },
  {
   "metadata": {},
   "cell_type": "code",
   "outputs": [],
   "execution_count": null,
   "source": [
    "query = \"What is the Orchestration Service\"\n",
    "docs = db.similarity_search_with_relevance_scores(query, k=2, score_threshold=0.1, filter={})\n",
    "\n",
    "for doc in docs:\n",
    "    print(\"-\" * 80)\n",
    "    print(\"Source: \", doc[0].metadata)\n",
    "    print(doc[0].page_content)"
   ],
   "id": "ab1c8967f5a3c681"
  },
  {
   "metadata": {},
   "cell_type": "markdown",
   "source": "## Langchain Q&A Chain with RAG",
   "id": "ed39d8c1e376ac2b"
  },
  {
   "cell_type": "code",
   "id": "ef13c6cf-b9aa-4871-a757-05c1a72b75d7",
   "metadata": {
    "ExecuteTime": {
     "end_time": "2024-10-01T20:47:14.051758Z",
     "start_time": "2024-10-01T20:47:14.049883Z"
    }
   },
   "source": [
    "# Create a retriever instance of the vector store\n",
    "retriever = db.as_retriever()"
   ],
   "outputs": [],
   "execution_count": 38
  },
  {
   "metadata": {
    "ExecuteTime": {
     "end_time": "2024-10-01T20:47:14.056253Z",
     "start_time": "2024-10-01T20:47:14.054078Z"
    }
   },
   "cell_type": "code",
   "source": [
    "from langchain_core.prompts import PromptTemplate\n",
    "\n",
    "prompt_template = \"\"\"\n",
    "You are an expert in SAP BTP services. You are provided multiple context items (help documentation) that are related to the prompt you have to answer.\n",
    "Only use the following pieces of context to answer the question at the end. If you don't find an appropriate answer in the given sources, apologize and say you don't know.\n",
    "\n",
    "'''\n",
    "{context}\n",
    "'''\n",
    "\n",
    "Question: {question}\n",
    "\"\"\"\n",
    "\n",
    "PROMPT = PromptTemplate(\n",
    "    template=prompt_template, input_variables=[\"context\", \"question\"]\n",
    ")\n",
    "chain_type_kwargs = {\"prompt\": PROMPT}"
   ],
   "id": "a917fab739f0e26b",
   "outputs": [],
   "execution_count": 39
  },
  {
   "metadata": {
    "ExecuteTime": {
     "end_time": "2024-10-01T21:05:26.947511Z",
     "start_time": "2024-10-01T21:05:26.929596Z"
    }
   },
   "cell_type": "code",
   "source": [
    "from langchain.chains import ConversationalRetrievalChain\n",
    "from langchain.memory import ConversationBufferMemory\n",
    "from gen_ai_hub.proxy.langchain.openai import ChatOpenAI\n",
    "\n",
    "llm = ChatOpenAI(proxy_model_name=\"gpt-4o\")\n",
    "memory = ConversationBufferMemory(\n",
    "    memory_key=\"chat_history\", output_key=\"answer\", return_messages=True\n",
    ")\n",
    "qa_chain = ConversationalRetrievalChain.from_llm(\n",
    "    llm,\n",
    "    db.as_retriever(\n",
    "        search_type=\"similarity_score_threshold\", \n",
    "        search_kwargs={\"k\": 5, \"filter\": {}, \"score_threshold\": 0.05}\n",
    "    ),\n",
    "    return_source_documents=True,\n",
    "    memory=memory,\n",
    "    verbose=False,\n",
    "    combine_docs_chain_kwargs={\"prompt\": PROMPT},\n",
    ")"
   ],
   "id": "e63a44147001d184",
   "outputs": [],
   "execution_count": 63
  },
  {
   "metadata": {
    "ExecuteTime": {
     "end_time": "2024-10-01T21:05:31.710479Z",
     "start_time": "2024-10-01T21:05:28.270186Z"
    }
   },
   "cell_type": "code",
   "source": [
    "question = \"What is the Orchestration Service?\"\n",
    "\n",
    "result = qa_chain.invoke({\"question\": question})\n",
    "print(\"Answer from LLM:\")\n",
    "print(\"================\")\n",
    "print(result[\"answer\"])\n",
    "\n",
    "source_docs = result[\"source_documents\"]\n",
    "print(\"================\")\n",
    "print(f\"Number of used source document chunks: {len(source_docs)}\")\n",
    "for doc in source_docs: print(f\"Source: {doc.metadata}\") # access content through doc.page_content"
   ],
   "id": "4020d2101cbf9ac8",
   "outputs": [
    {
     "name": "stdout",
     "output_type": "stream",
     "text": [
      "Answer from LLM:\n",
      "================\n",
      "The Orchestration Service in SAP BTP is a feature that allows you to combine different modules into a pipeline that can be executed with a single API call. This service enables you to configure the details for each module and pass an orchestration configuration in JSON format with the request body. The response from one module in the pipeline can be used as the input for the next module, allowing for a streamlined and efficient workflow.\n",
      "\n",
      "This service is particularly useful for deploying and managing AI models, and it can be accessed and configured using tools like Postman. After creating a deployment and obtaining a deployment URL, you can make calls to the orchestration service to perform various tasks, including configuring model and templating modules for inference calls.\n",
      "\n",
      "For more detailed steps on how to use the Orchestration Service, including obtaining an authentication token and making orchestration calls, you can refer to the procedures outlined in the help documentation.\n",
      "================\n",
      "Number of used source document chunks: 5\n",
      "Source: {'source': 'https://help.sap.com/doc/c31b38b32a5d4e07a4488cb0f8bb55d9/CLOUD/en-US/f17fa8568d0448c685f2a0301061a6ee.pdf', 'page': 138}\n",
      "Source: {'source': 'https://help.sap.com/doc/c31b38b32a5d4e07a4488cb0f8bb55d9/CLOUD/en-US/f17fa8568d0448c685f2a0301061a6ee.pdf', 'page': 144}\n",
      "Source: {'source': 'https://help.sap.com/doc/c31b38b32a5d4e07a4488cb0f8bb55d9/CLOUD/en-US/f17fa8568d0448c685f2a0301061a6ee.pdf', 'page': 133}\n",
      "Source: {'source': 'https://help.sap.com/doc/c31b38b32a5d4e07a4488cb0f8bb55d9/CLOUD/en-US/f17fa8568d0448c685f2a0301061a6ee.pdf', 'page': 140}\n",
      "Source: {'source': 'https://help.sap.com/doc/c31b38b32a5d4e07a4488cb0f8bb55d9/CLOUD/en-US/f17fa8568d0448c685f2a0301061a6ee.pdf', 'page': 2}\n"
     ]
    }
   ],
   "execution_count": 64
  },
  {
   "metadata": {
    "ExecuteTime": {
     "end_time": "2024-10-01T20:47:21.044136Z",
     "start_time": "2024-10-01T20:47:17.848181Z"
    }
   },
   "cell_type": "code",
   "source": [
    "question = \"Which model providers are available in the genai hub?\"\n",
    "\n",
    "result = qa_chain.invoke({\"question\": question})\n",
    "print(result[\"answer\"])"
   ],
   "id": "4c49155c048efcd9",
   "outputs": [
    {
     "name": "stdout",
     "output_type": "stream",
     "text": [
      "The Generative AI Hub in SAP AI Core supports models from the following providers:\n",
      "\n",
      "1. **Anthropic** (via AWS Bedrock)\n",
      "2. **Amazon** (via AWS Bedrock)\n",
      "3. **Azure OpenAI Service**\n",
      "4. **Open source models** (hosted and accessed through SAP AI Core)\n",
      "5. **GCP Vertex AI** (providing access to PaLM 2 and Gemini models from Google)\n",
      "6. **Meta**\n",
      "7. **Mistral AI**\n",
      "\n",
      "For more detailed information, you can refer to the \"Models and Scenarios in the Generative AI Hub\" section on page 101.\n"
     ]
    }
   ],
   "execution_count": 42
  },
  {
   "metadata": {
    "ExecuteTime": {
     "end_time": "2024-10-01T20:47:26.064795Z",
     "start_time": "2024-10-01T20:47:21.045426Z"
    }
   },
   "cell_type": "code",
   "source": [
    "question = \"Elaborate on the second one you mentioned\"\n",
    "\n",
    "result = qa_chain.invoke({\"question\": question})\n",
    "print(result[\"answer\"])"
   ],
   "id": "d234c144a9a0ded1",
   "outputs": [
    {
     "name": "stdout",
     "output_type": "stream",
     "text": [
      "Certainly! AWS Bedrock offers several models from Amazon, specifically under the \"Titan\" family. The Amazon models available via AWS Bedrock include:\n",
      "\n",
      "1. **Titan Text Express**: This model is designed for text generation tasks. You can invoke this model using a JSON payload where you specify the input text and various configuration options such as `maxTokenCount`, `stopSequences`, `temperature`, and `topP`. For example:\n",
      "   ```bash\n",
      "   curl --location '$DEPLOYMENT_URL/invoke' \\\n",
      "       --header 'AI-Resource-Group: default' \\\n",
      "       --header 'Content-Type: application/json' \\\n",
      "       --header \"Authorization: Bearer $AUTH_TOKEN\" \\\n",
      "       --data '{\n",
      "           \"inputText\": \"Who am AI?\",\n",
      "           \"textGenerationConfig\": {\n",
      "               \"maxTokenCount\": 10,\n",
      "               \"stopSequences\": [],\n",
      "               \"temperature\": 0,\n",
      "               \"topP\": 1\n",
      "           }\n",
      "       }'\n",
      "   ```\n",
      "\n",
      "2. **Titan Text Lite**: Similar to the Titan Text Express, this model also focuses on text generation tasks and can be invoked with a similar JSON payload for various configurations.\n",
      "\n",
      "3. **Titan Embed Text**: This model is used for generating text embeddings, which are vector representations of text useful for tasks like semantic search and clustering. The invocation for this model would also follow a similar structure but designed to produce embeddings rather than text generation.\n",
      "\n",
      "These models cater to different needs in text processing, from generation to embedding, making them versatile tools for various AI-driven applications on the SAP Business Technology Platform via AWS Bedrock.\n"
     ]
    }
   ],
   "execution_count": 43
  },
  {
   "metadata": {
    "ExecuteTime": {
     "end_time": "2024-10-01T20:51:29.729787Z",
     "start_time": "2024-10-01T20:51:23.904061Z"
    }
   },
   "cell_type": "code",
   "source": [
    "question = \"Which scenario and executable do I have to use when I want to use an LLM from the provider we just talked about?\"\n",
    "\n",
    "result = qa_chain.invoke({\"question\": question})\n",
    "print(result[\"answer\"])"
   ],
   "id": "66d8402a692b5fde",
   "outputs": [
    {
     "name": "stdout",
     "output_type": "stream",
     "text": [
      "To use an LLM from Amazon via AWS Bedrock, you can refer to the following models and their respective scenarios:\n",
      "\n",
      "1. **Amazon Titan Embed Text**\n",
      "2. **Amazon Titan Text Lite**\n",
      "3. **Amazon Titan Text Express**\n",
      "\n",
      "For these models, you can use the following executable IDs in your configuration:\n",
      "- **aws-bedrock amazon--titan-embed-text1.2**\n",
      "- **aws-bedrock amazon--titan-text-lite1**\n",
      "- **aws-bedrock amazon--titan-text-express1**\n",
      "\n",
      "Ensure you are using the correct executable ID from your workflow for the configuration. You should also verify that you have access to the scenario containing generative AI by sending a GET request to `{{apiurl}}/v2/lm/scenarios` and setting the Authorization header with Bearer `$TOKEN` and your resource group.\n",
      "\n",
      "Here is an example curl command for invoking the Amazon Titan Text Express model:\n",
      "```bash\n",
      "curl --location '$DEPLOYMENT_URL/invoke' \\\n",
      "--header 'AI-Resource-Group: default' \\\n",
      "--header 'Content-Type: application/json' \\\n",
      "--header \"Authorization: Bearer $AUTH_TOKEN\" \\\n",
      "--data '{\n",
      "    \"inputText\": \"Who am AI?\",\n",
      "    \"textGenerationConfig\": {\n",
      "        \"maxTokenCount\": 10,\n",
      "        \"stopSequences\": [],\n",
      "        \"temperature\": 0,\n",
      "        \"topP\": 1\n",
      "    }\n",
      "}'\n",
      "```\n",
      "\n",
      "Make sure to replace `$DEPLOYMENT_URL` and `$AUTH_TOKEN` with your actual deployment URL and authorization token.\n"
     ]
    }
   ],
   "execution_count": 48
  }
 ],
 "metadata": {
  "kernelspec": {
   "display_name": "Python 3 (ipykernel)",
   "language": "python",
   "name": "python3"
  },
  "language_info": {
   "codemirror_mode": {
    "name": "ipython",
    "version": 3
   },
   "file_extension": ".py",
   "mimetype": "text/x-python",
   "name": "python",
   "nbconvert_exporter": "python",
   "pygments_lexer": "ipython3",
   "version": "3.11.3"
  }
 },
 "nbformat": 4,
 "nbformat_minor": 5
}
