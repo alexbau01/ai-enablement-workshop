{
 "cells": [
  {
   "cell_type": "code",
   "metadata": {
    "metadata": {},
    "ExecuteTime": {
     "end_time": "2024-10-02T01:00:39.105148Z",
     "start_time": "2024-10-02T01:00:38.967358Z"
    }
   },
   "source": [
    "from gen_ai_hub.proxy.langchain.amazon import ChatBedrock\n",
    "from gen_ai_hub.proxy.langchain.openai import ChatOpenAI\n",
    "llm = ChatBedrock(model_name=\"anthropic--claude-3.5-sonnet\", temperature=0)\n",
    "openai_llm = ChatOpenAI(proxy_model_name=\"gpt-4o\", temperature=0.0)"
   ],
   "outputs": [],
   "execution_count": 2
  },
  {
   "metadata": {},
   "cell_type": "markdown",
   "source": "# Email Classification Example"
  },
  {
   "metadata": {
    "ExecuteTime": {
     "end_time": "2024-10-02T01:00:39.116040Z",
     "start_time": "2024-10-02T01:00:39.106167Z"
    }
   },
   "cell_type": "code",
   "source": [
    "from langchain.prompts import PromptTemplate\n",
    "\n",
    "email_classification_prompt = PromptTemplate.from_template(\n",
    "\"\"\"\"You are an email classifier for a large energy company in Austria.\n",
    "\n",
    "Assess which type of inquiry the email refers to: {categories}.\n",
    "\n",
    "Also assess the urgency of the request as \"low\", \"medium\", \"high\", or \"critical\".\n",
    "\n",
    "If available in the email, also extract the senders name and their phone number. Otherwise, do not add it to the JSON Object. If the phone number contains a country code, write it down as starting with plus, followed by the country code. Do not add any spaces between numbers.\n",
    "\n",
    "Also summarize the given email as shortly as possible and in English. Focus on the issues described and actions to take. Add the summary as \"shortSummary\" to the JSON.\n",
    "\n",
    "Respond only with a raw JSON Object in the following format, do not add any formatting:\n",
    "{{\"type\": string, \"urgency\": string, \"senderName\": string, \"phoneNumber\": string, \"shortSummary\": string}}\n",
    "\n",
    "---- Email ----\n",
    "\n",
    "{email_content}\"\"\")\n",
    "\n",
    "email_classification_runnable = email_classification_prompt | llm"
   ],
   "outputs": [],
   "execution_count": 3
  },
  {
   "metadata": {
    "ExecuteTime": {
     "end_time": "2024-10-02T01:00:41.386440Z",
     "start_time": "2024-10-02T01:00:39.116772Z"
    }
   },
   "cell_type": "code",
   "source": [
    "email_content = \"\"\"Hallo,\n",
    "\n",
    "ich bin daran interessiert, mehr über die Möglichkeiten für nachhaltige Kraftstoffe zu erfahren, die Ihr Unternehmen anbietet. Besonders interessiert mich, welche Arten von nachhaltigen Kraftstoffen angeboten werden und wie diese zur Reduzierung des CO2-Ausstoßes beitragen können.\n",
    "\n",
    "Wäre es möglich, detaillierte Informationen über die Eigenschaften dieser Kraftstoffe und deren Verfügbarkeit zu erhalten?\n",
    "\n",
    "Falls Sie noch weitere Informationen benötigen, erreichen Sie mich unter +43123456789.\n",
    "\n",
    "Vielen Dank für Ihre Unterstützung.\n",
    "\n",
    "Mit freundlichen Grüßen,\n",
    "Johann Moser\n",
    "XYZ Transport GmbH\n",
    "\"\"\"\n",
    "\n",
    "categories = [\"naturalGasInquiry\", \"classicalFuelInquiry\", \"hydrogenInquiry\", \"sustainableFuelInquiry\", \"partnershipProposal\", \"technicalSupport\", \"feedback\", \"billingIssue\", \"generalInquiry\", \"other\"]\n",
    "\n",
    "res = email_classification_runnable.invoke({\"categories\": categories, \"email_content\": email_content})\n",
    "print(res)"
   ],
   "outputs": [
    {
     "name": "stdout",
     "output_type": "stream",
     "text": [
      "content='{\"type\": \"sustainableFuelInquiry\", \"urgency\": \"low\", \"senderName\": \"Johann Moser\", \"phoneNumber\": \"+43123456789\", \"shortSummary\": \"Customer requests information about sustainable fuels offered, their CO2 reduction potential, properties, and availability.\"}' additional_kwargs={'usage': {'prompt_tokens': 0, 'completion_tokens': 0, 'total_tokens': 0}, 'stop_reason': 'end_turn', 'model_id': 'anthropic.claude-3-5-sonnet-20240620-v1:0'} response_metadata={'usage': {'prompt_tokens': 0, 'completion_tokens': 0, 'total_tokens': 0}, 'stop_reason': 'end_turn', 'model_id': 'anthropic.claude-3-5-sonnet-20240620-v1:0'} id='run-295a4cd3-6bf4-4dcc-8aed-7384d25b46a3-0'\n"
     ]
    }
   ],
   "execution_count": 4
  },
  {
   "cell_type": "code",
   "metadata": {
    "ExecuteTime": {
     "end_time": "2024-10-02T01:00:41.392301Z",
     "start_time": "2024-10-02T01:00:41.389Z"
    }
   },
   "source": [
    "import json\n",
    "jsonData = json.loads(res.content)\n",
    "print(\"Type of request: \"+jsonData.get(\"type\",\"Not given\"))\n",
    "print(\"Urgency of request: \"+str(jsonData.get(\"urgency\",\"Not given\")))\n",
    "print(\"Sender Name: \"+str(jsonData.get(\"senderName\",\"Not given\")))\n",
    "print(\"Phone Number: \"+str(jsonData.get(\"phoneNumber\",\"Not given\")))\n",
    "print(\"Summary: \"+str(jsonData.get(\"shortSummary\",\"Not given\")))"
   ],
   "outputs": [
    {
     "name": "stdout",
     "output_type": "stream",
     "text": [
      "Type of request: sustainableFuelInquiry\n",
      "Urgency of request: low\n",
      "Sender Name: Johann Moser\n",
      "Phone Number: +43123456789\n",
      "Summary: Customer requests information about sustainable fuels offered, their CO2 reduction potential, properties, and availability.\n"
     ]
    }
   ],
   "execution_count": 5
  },
  {
   "metadata": {},
   "cell_type": "markdown",
   "source": [
    ".\n",
    "\n",
    ".\n",
    "\n",
    ".\n",
    "\n",
    ".\n",
    "\n",
    ".\n",
    "\n",
    ".\n",
    "\n",
    ".\n",
    "\n",
    ".\n",
    "\n",
    ".\n"
   ]
  },
  {
   "metadata": {},
   "cell_type": "markdown",
   "source": "# AI Agent Example"
  },
  {
   "metadata": {
    "ExecuteTime": {
     "end_time": "2024-10-02T01:00:41.396508Z",
     "start_time": "2024-10-02T01:00:41.393268Z"
    }
   },
   "cell_type": "code",
   "source": [
    "from langchain_core.prompts import PromptTemplate\n",
    "react_agent_prompt = PromptTemplate.from_template(\n",
    "    \"\"\"You are an AI Agent (\"Assistant\") designed to be able to assist with a wide range of tasks, from answering simple questions to providing in-depth explanations and discussions on a wide range of topics. As a language model, Assistant is able to generate human-like text based on the input it receives, allowing it to engage in natural-sounding conversations and provide responses that are coherent and relevant to the topic at hand.\n",
    "    \n",
    "    Assistant is constantly learning and improving, and its capabilities are constantly evolving. It is able to process and understand large amounts of text, and can use this knowledge to provide accurate and informative responses to a wide range of questions. Additionally, Assistant is able to generate its own text based on the input it receives, allowing it to engage in discussions and provide explanations and descriptions on a wide range of topics.\n",
    "    \n",
    "    Overall, Assistant is a powerful tool that can help with a wide range of tasks and provide valuable insights and information on a wide range of topics. Whether you need help with a specific question or just want to have a conversation about a particular topic, Assistant is here to assist.\n",
    "    \n",
    "    TOOLS:\n",
    "    ------\n",
    "    \n",
    "    Assistant has access to the following tools:\n",
    "    \n",
    "    {tools}\n",
    "    \n",
    "    To use a tool, please use the following format:\n",
    "    \n",
    "    ```\n",
    "    Thought: Do I need to use a tool? Yes\n",
    "    Action: the action to take, should be one of [{tool_names}]\n",
    "    Action Input: the input to the action\\nObservation: the result of the action\n",
    "    ```\n",
    "    \n",
    "    When you have a response to say to the Human, or if you do not need to use a tool, you MUST use the format:\n",
    "    \n",
    "    ```\n",
    "    Thought: Do I need to use a tool? No\n",
    "    Final Answer: [your response here]\n",
    "    ```\n",
    "    \n",
    "    Begin!\n",
    "    \n",
    "    Previous conversation history:\n",
    "    {chat_history}\n",
    "    \n",
    "    New input: {input}\n",
    "    {agent_scratchpad}\"\"\"\n",
    ")"
   ],
   "outputs": [],
   "execution_count": 6
  },
  {
   "metadata": {
    "ExecuteTime": {
     "end_time": "2024-10-02T01:00:43.049997Z",
     "start_time": "2024-10-02T01:00:41.397309Z"
    }
   },
   "cell_type": "code",
   "source": [
    "from langchain.memory import ConversationBufferMemory\n",
    "# from langchain import hub\n",
    "from langchain.agents import load_tools, AgentExecutor, create_react_agent\n",
    "\n",
    "# prompt = hub.pull(\"hwchase17/react-chat\")\n",
    "\n",
    "tools = load_tools(\n",
    "    [\"llm-math\"],\n",
    "    llm=openai_llm\n",
    ")\n",
    "\n",
    "memory = ConversationBufferMemory(memory_key=\"chat_history\")\n",
    "\n",
    "conversational_agent = create_react_agent(\n",
    "    tools=tools,\n",
    "    llm=openai_llm,\n",
    "    prompt=react_agent_prompt\n",
    ")\n",
    "\n",
    "agent_executor = AgentExecutor(\n",
    "    agent=conversational_agent,\n",
    "    tools=tools,\n",
    "    handle_parsing_errors=True,\n",
    "    verbose=True,\n",
    "    memory=memory,\n",
    "    max_interations=5\n",
    ")"
   ],
   "outputs": [],
   "execution_count": 7
  },
  {
   "metadata": {
    "ExecuteTime": {
     "end_time": "2024-10-02T01:00:52.160859Z",
     "start_time": "2024-10-02T01:00:43.050987Z"
    }
   },
   "cell_type": "code",
   "source": [
    "result = agent_executor.invoke({\"input\": \n",
    "    \"An energy supplier company needs to calculate the expected monthly electricity usage next year, assuming it increases by 5,75% year-over-year and is evenly distributed across all months. The electricity meter reading on 01.01.2023 was 1056735 kWh and on 01.01.2024 it was 1098332 kWh.\"\n",
    "})\n",
    "\n",
    "print(result[\"output\"])"
   ],
   "outputs": [
    {
     "name": "stdout",
     "output_type": "stream",
     "text": [
      "\n",
      "\n",
      "\u001B[1m> Entering new AgentExecutor chain...\u001B[0m\n",
      "\u001B[32;1m\u001B[1;3mTo calculate the expected monthly electricity usage for next year, we need to follow these steps:\n",
      "\n",
      "1. **Determine the total electricity usage for the current year (2023):**\n",
      "   - Subtract the meter reading on 01.01.2023 from the meter reading on 01.01.2024.\n",
      "\n",
      "2. **Calculate the expected total electricity usage for the next year (2024):**\n",
      "   - Increase the total electricity usage for 2023 by 5.75%.\n",
      "\n",
      "3. **Calculate the expected monthly electricity usage for 2024:**\n",
      "   - Divide the expected total electricity usage for 2024 by 12.\n",
      "\n",
      "Let's go through these steps one by one.\n",
      "\n",
      "### Step 1: Determine the total electricity usage for 2023\n",
      "```\n",
      "Total usage in 2023 = Meter reading on 01.01.2024 - Meter reading on 01.01.2023\n",
      "```\n",
      "```\n",
      "Total usage in 2023 = 1098332 kWh - 1056735 kWh\n",
      "```\n",
      "\n",
      "Thought: Do I need to use a tool? Yes\n",
      "Action: Calculator\n",
      "Action Input: 1098332 - 1056735\n",
      "\u001B[0m\u001B[36;1m\u001B[1;3mAnswer: 41597\u001B[0m\u001B[32;1m\u001B[1;3m### Step 2: Calculate the expected total electricity usage for the next year (2024)\n",
      "```\n",
      "Expected total usage in 2024 = Total usage in 2023 * (1 + Percentage increase)\n",
      "```\n",
      "```\n",
      "Expected total usage in 2024 = 41597 kWh * (1 + 5.75/100)\n",
      "```\n",
      "\n",
      "Thought: Do I need to use a tool? Yes\n",
      "Action: Calculator\n",
      "Action Input: 41597 * (1 + 5.75/100)\n",
      "\u001B[0m\u001B[36;1m\u001B[1;3mAnswer: 43988.82750000001\u001B[0m\u001B[32;1m\u001B[1;3m### Step 3: Calculate the expected monthly electricity usage for 2024\n",
      "```\n",
      "Expected monthly usage in 2024 = Expected total usage in 2024 / 12\n",
      "```\n",
      "```\n",
      "Expected monthly usage in 2024 = 43988.82750000001 kWh / 12\n",
      "```\n",
      "\n",
      "Thought: Do I need to use a tool? Yes\n",
      "Action: Calculator\n",
      "Action Input: 43988.82750000001 / 12\n",
      "\u001B[0m\u001B[36;1m\u001B[1;3mAnswer: 3665.7356250000007\u001B[0m\u001B[32;1m\u001B[1;3m### Step 3: Calculate the expected monthly electricity usage for 2024\n",
      "```\n",
      "Expected monthly usage in 2024 = Expected total usage in 2024 / 12\n",
      "```\n",
      "```\n",
      "Expected monthly usage in 2024 = 43988.82750000001 kWh / 12\n",
      "```\n",
      "\n",
      "The expected monthly electricity usage for 2024 is approximately 3665.74 kWh.\n",
      "\n",
      "Final Answer: The expected monthly electricity usage for 2024 is approximately 3665.74 kWh.\u001B[0m\n",
      "\n",
      "\u001B[1m> Finished chain.\u001B[0m\n",
      "The expected monthly electricity usage for 2024 is approximately 3665.74 kWh.\n"
     ]
    }
   ],
   "execution_count": 8
  }
 ],
 "metadata": {
  "kernelspec": {
   "display_name": ".venv",
   "language": "python",
   "name": "python3"
  },
  "language_info": {
   "codemirror_mode": {
    "name": "ipython",
    "version": 3
   },
   "file_extension": ".py",
   "mimetype": "text/x-python",
   "name": "python",
   "nbconvert_exporter": "python",
   "pygments_lexer": "ipython3",
   "version": "3.11.3"
  }
 },
 "nbformat": 4,
 "nbformat_minor": 2
}
